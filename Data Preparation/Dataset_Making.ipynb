{
 "cells": [
  {
   "cell_type": "code",
   "execution_count": 10,
   "metadata": {},
   "outputs": [],
   "source": [
    "from datasets import load_dataset\n",
    "dataset = load_dataset(\"lavita/ChatDoctor-HealthCareMagic-100k\", split = \"train\")"
   ]
  },
  {
   "cell_type": "code",
   "execution_count": 11,
   "metadata": {},
   "outputs": [],
   "source": [
    "df = dataset.to_pandas()"
   ]
  },
  {
   "cell_type": "code",
   "execution_count": null,
   "metadata": {},
   "outputs": [],
   "source": [
    "def formatting_prompts_func(examples):\n",
    "  l = []\n",
    "  for i in range(len(examples)):\n",
    "    l.append([\n",
    "          {\n",
    "              \"from\": \"human\",\n",
    "              \"value\": f\"{examples.iloc[i]['instruction']} This is the question: {examples.iloc[i]['input']}\"\n",
    "          },\n",
    "          {\n",
    "              \"from\": \"gpt\",\n",
    "              \"value\": f\"{examples.iloc[i]['output']}\"\n",
    "          }\n",
    "      ])\n",
    "  return l\n",
    "\n",
    "formatting_prompts_func(df)"
   ]
  },
  {
   "cell_type": "code",
   "execution_count": 13,
   "metadata": {},
   "outputs": [],
   "source": [
    "import pandas as pd"
   ]
  },
  {
   "cell_type": "code",
   "execution_count": 14,
   "metadata": {},
   "outputs": [
    {
     "data": {
      "text/html": [
       "<div>\n",
       "<style scoped>\n",
       "    .dataframe tbody tr th:only-of-type {\n",
       "        vertical-align: middle;\n",
       "    }\n",
       "\n",
       "    .dataframe tbody tr th {\n",
       "        vertical-align: top;\n",
       "    }\n",
       "\n",
       "    .dataframe thead th {\n",
       "        text-align: right;\n",
       "    }\n",
       "</style>\n",
       "<table border=\"1\" class=\"dataframe\">\n",
       "  <thead>\n",
       "    <tr style=\"text-align: right;\">\n",
       "      <th></th>\n",
       "      <th>conversations</th>\n",
       "    </tr>\n",
       "  </thead>\n",
       "  <tbody>\n",
       "    <tr>\n",
       "      <th>0</th>\n",
       "      <td>[{'from': 'human', 'value': 'If you are a doct...</td>\n",
       "    </tr>\n",
       "    <tr>\n",
       "      <th>1</th>\n",
       "      <td>[{'from': 'human', 'value': 'If you are a doct...</td>\n",
       "    </tr>\n",
       "    <tr>\n",
       "      <th>2</th>\n",
       "      <td>[{'from': 'human', 'value': 'If you are a doct...</td>\n",
       "    </tr>\n",
       "    <tr>\n",
       "      <th>3</th>\n",
       "      <td>[{'from': 'human', 'value': 'If you are a doct...</td>\n",
       "    </tr>\n",
       "    <tr>\n",
       "      <th>4</th>\n",
       "      <td>[{'from': 'human', 'value': 'If you are a doct...</td>\n",
       "    </tr>\n",
       "    <tr>\n",
       "      <th>...</th>\n",
       "      <td>...</td>\n",
       "    </tr>\n",
       "    <tr>\n",
       "      <th>112160</th>\n",
       "      <td>[{'from': 'human', 'value': 'If you are a doct...</td>\n",
       "    </tr>\n",
       "    <tr>\n",
       "      <th>112161</th>\n",
       "      <td>[{'from': 'human', 'value': 'If you are a doct...</td>\n",
       "    </tr>\n",
       "    <tr>\n",
       "      <th>112162</th>\n",
       "      <td>[{'from': 'human', 'value': 'If you are a doct...</td>\n",
       "    </tr>\n",
       "    <tr>\n",
       "      <th>112163</th>\n",
       "      <td>[{'from': 'human', 'value': 'If you are a doct...</td>\n",
       "    </tr>\n",
       "    <tr>\n",
       "      <th>112164</th>\n",
       "      <td>[{'from': 'human', 'value': 'If you are a doct...</td>\n",
       "    </tr>\n",
       "  </tbody>\n",
       "</table>\n",
       "<p>112165 rows × 1 columns</p>\n",
       "</div>"
      ],
      "text/plain": [
       "                                            conversations\n",
       "0       [{'from': 'human', 'value': 'If you are a doct...\n",
       "1       [{'from': 'human', 'value': 'If you are a doct...\n",
       "2       [{'from': 'human', 'value': 'If you are a doct...\n",
       "3       [{'from': 'human', 'value': 'If you are a doct...\n",
       "4       [{'from': 'human', 'value': 'If you are a doct...\n",
       "...                                                   ...\n",
       "112160  [{'from': 'human', 'value': 'If you are a doct...\n",
       "112161  [{'from': 'human', 'value': 'If you are a doct...\n",
       "112162  [{'from': 'human', 'value': 'If you are a doct...\n",
       "112163  [{'from': 'human', 'value': 'If you are a doct...\n",
       "112164  [{'from': 'human', 'value': 'If you are a doct...\n",
       "\n",
       "[112165 rows x 1 columns]"
      ]
     },
     "execution_count": 14,
     "metadata": {},
     "output_type": "execute_result"
    }
   ],
   "source": [
    "df = pd.DataFrame({\"conversations\":formatting_prompts_func(df)})\n",
    "df"
   ]
  },
  {
   "cell_type": "code",
   "execution_count": null,
   "metadata": {},
   "outputs": [],
   "source": [
    "import datasets\n",
    "dataset = datasets.Dataset.from_pandas(df)\n",
    "dataset.push_to_hub(\"srikar-v05/share-gpt-medical\",token=\"YOUR_HUGGINGFACE_TOKEN\")"
   ]
  }
 ],
 "metadata": {
  "kernelspec": {
   "display_name": "Python 3",
   "language": "python",
   "name": "python3"
  },
  "language_info": {
   "codemirror_mode": {
    "name": "ipython",
    "version": 3
   },
   "file_extension": ".py",
   "mimetype": "text/x-python",
   "name": "python",
   "nbconvert_exporter": "python",
   "pygments_lexer": "ipython3",
   "version": "3.11.4"
  }
 },
 "nbformat": 4,
 "nbformat_minor": 2
}
